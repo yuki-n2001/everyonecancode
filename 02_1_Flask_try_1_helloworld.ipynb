{
  "cells": [
    {
      "cell_type": "markdown",
      "metadata": {
        "id": "view-in-github",
        "colab_type": "text"
      },
      "source": [
        "<a href=\"https://colab.research.google.com/github/yuki-n2001/everyonecancode/blob/main/02_1_Flask_try_1_helloworld.ipynb\" target=\"_parent\"><img src=\"https://colab.research.google.com/assets/colab-badge.svg\" alt=\"Open In Colab\"/></a>"
      ]
    },
    {
      "cell_type": "markdown",
      "metadata": {
        "id": "LqahVFAAdpcu"
      },
      "source": [
        "# 1.必要な道具を揃える[環境準備]\n",
        "\n",
        "1.  Flaskのインストール\n",
        "2.  Python用ngrokライブラリpyngrokのインストール\n",
        "3.  必要なモジュールのimport\n"
      ]
    },
    {
      "cell_type": "code",
      "execution_count": 3,
      "metadata": {
        "colab": {
          "base_uri": "https://localhost:8080/"
        },
        "id": "Z8JSlTakoMbi",
        "outputId": "2d0dfc60-3d84-450a-83c2-915229a0af77"
      },
      "outputs": [
        {
          "output_type": "stream",
          "name": "stdout",
          "text": [
            "Requirement already satisfied: flask in /usr/local/lib/python3.10/dist-packages (2.2.5)\n",
            "Collecting pyngrok\n",
            "  Downloading pyngrok-7.2.0-py3-none-any.whl.metadata (7.4 kB)\n",
            "Requirement already satisfied: Werkzeug>=2.2.2 in /usr/local/lib/python3.10/dist-packages (from flask) (3.0.4)\n",
            "Requirement already satisfied: Jinja2>=3.0 in /usr/local/lib/python3.10/dist-packages (from flask) (3.1.4)\n",
            "Requirement already satisfied: itsdangerous>=2.0 in /usr/local/lib/python3.10/dist-packages (from flask) (2.2.0)\n",
            "Requirement already satisfied: click>=8.0 in /usr/local/lib/python3.10/dist-packages (from flask) (8.1.7)\n",
            "Requirement already satisfied: PyYAML>=5.1 in /usr/local/lib/python3.10/dist-packages (from pyngrok) (6.0.2)\n",
            "Requirement already satisfied: MarkupSafe>=2.0 in /usr/local/lib/python3.10/dist-packages (from Jinja2>=3.0->flask) (2.1.5)\n",
            "Downloading pyngrok-7.2.0-py3-none-any.whl (22 kB)\n",
            "Installing collected packages: pyngrok\n",
            "Successfully installed pyngrok-7.2.0\n"
          ]
        }
      ],
      "source": [
        "#@title 1,2 Flask, pyngrokのインストール\n",
        "!pip install flask pyngrok\n"
      ]
    },
    {
      "cell_type": "markdown",
      "metadata": {
        "id": "DXLbLjWgI9EH"
      },
      "source": []
    },
    {
      "cell_type": "code",
      "execution_count": 4,
      "metadata": {
        "id": "7z_Qv9BOIurs"
      },
      "outputs": [],
      "source": [
        "# @title 3.必要なモジュールのimport\n",
        "import os\n",
        "# flask(パッケージ)からFlaskクラス(モジュール)をインポート\n",
        "from flask import Flask\n",
        "# pyngrok(パッケージ)からngrokモジュールとconfモジュールをインポート\n",
        "from pyngrok import ngrok, conf"
      ]
    },
    {
      "cell_type": "markdown",
      "metadata": {
        "id": "AW8HioqWNcww"
      },
      "source": [
        "# 2.設定\n"
      ]
    },
    {
      "cell_type": "code",
      "execution_count": null,
      "metadata": {
        "id": "6beRBvwEX9h4"
      },
      "outputs": [],
      "source": [
        "# @title ngrokトークンを設定\n",
        "#confは上でimportしたモジュール\n",
        "conf.get_default().auth_token = \"自分のngrok　tokenを入れる\" # @param {type:\"string\"}\n",
        "\n"
      ]
    },
    {
      "cell_type": "code",
      "source": [
        "conf.get_default().auth_token = \"2laGXjZRSdedR1xvu8n1zAV4l8c_sH3XzM81jCPo2jrnd1YM\""
      ],
      "metadata": {
        "id": "NvVTyCAqkDOp"
      },
      "execution_count": 5,
      "outputs": []
    },
    {
      "cell_type": "markdown",
      "source": [],
      "metadata": {
        "id": "-2OLuknvjjmO"
      }
    },
    {
      "cell_type": "markdown",
      "metadata": {
        "id": "sGqmSjreNpO8"
      },
      "source": [
        "# Flaskのフレームワーク（枠組み）に沿ってアプリのプログラムを書く[アプリ]\n"
      ]
    },
    {
      "cell_type": "code",
      "execution_count": 6,
      "metadata": {
        "id": "gk-Swh4DbBTC"
      },
      "outputs": [],
      "source": [
        "# @title Flaskクラスのインスタンスをつくって app 変数に入れる\n",
        "\n",
        "app = Flask(__name__)\n",
        "\n"
      ]
    },
    {
      "cell_type": "code",
      "execution_count": 7,
      "metadata": {
        "id": "C1jd2YAZN7F2"
      },
      "outputs": [],
      "source": [
        "# @title フレームワークに自分のアプリのためのプログラムを追加する\n",
        "# /（ルート）にアクセスしたら次に書く関数(hello_world)を実行するという宣言\n",
        "@app.route(\"/\")\n",
        "def hello_world():\n",
        "    return \"<p>Hello, World!</p>\" # <p>タグで囲まれたHTMLをレスポンスとして返す"
      ]
    },
    {
      "cell_type": "markdown",
      "metadata": {
        "id": "irPp5xw8qK8L"
      },
      "source": [
        "# 3. プログラムを実行してアプリを立ち上げる　[実行]"
      ]
    },
    {
      "cell_type": "code",
      "execution_count": null,
      "metadata": {
        "id": "T4UiEnkIbCYM",
        "colab": {
          "base_uri": "https://localhost:8080/"
        },
        "outputId": "e9d7dd7a-8b28-433b-c531-79b923f8f5c7"
      },
      "outputs": [
        {
          "metadata": {
            "tags": null
          },
          "name": "stdout",
          "output_type": "stream",
          "text": [
            "ngrok URL: NgrokTunnel: \"https://e1e5-34-75-92-171.ngrok-free.app\" -> \"http://localhost:5000\"\n",
            " * Serving Flask app '__main__'\n",
            " * Debug mode: off\n"
          ]
        },
        {
          "metadata": {
            "tags": null
          },
          "name": "stderr",
          "output_type": "stream",
          "text": [
            "INFO:werkzeug:\u001b[31m\u001b[1mWARNING: This is a development server. Do not use it in a production deployment. Use a production WSGI server instead.\u001b[0m\n",
            " * Running on http://127.0.0.1:5000\n",
            "INFO:werkzeug:\u001b[33mPress CTRL+C to quit\u001b[0m\n",
            "INFO:werkzeug:127.0.0.1 - - [10/Sep/2024 11:01:59] \"GET / HTTP/1.1\" 200 -\n",
            "INFO:werkzeug:127.0.0.1 - - [10/Sep/2024 11:02:00] \"\u001b[33mGET /favicon.ico HTTP/1.1\u001b[0m\" 404 -\n"
          ]
        }
      ],
      "source": [
        "# @title ngrokにトンネルを繋いでアプリを起動する\n",
        "if __name__ == \"__main__\":\n",
        "    public_url = ngrok.connect(5000) #ngrokのトンネルを繋ぐ\n",
        "    print(f\"ngrok URL: {public_url}\")\n",
        "    app.run(port=5000) # 5000番ポートでアプリを起動"
      ]
    }
  ],
  "metadata": {
    "colab": {
      "provenance": [],
      "include_colab_link": true
    },
    "kernelspec": {
      "display_name": "Python 3",
      "name": "python3"
    },
    "language_info": {
      "name": "python"
    }
  },
  "nbformat": 4,
  "nbformat_minor": 0
}